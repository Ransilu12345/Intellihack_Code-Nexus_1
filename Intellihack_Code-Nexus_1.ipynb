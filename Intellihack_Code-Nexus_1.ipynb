{
  "metadata": {
    "kernelspec": {
      "name": "python",
      "display_name": "Python (Pyodide)",
      "language": "python"
    },
    "language_info": {
      "codemirror_mode": {
        "name": "python",
        "version": 3
      },
      "file_extension": ".py",
      "mimetype": "text/x-python",
      "name": "python",
      "nbconvert_exporter": "python",
      "pygments_lexer": "ipython3",
      "version": "3.8"
    }
  },
  "nbformat_minor": 5,
  "nbformat": 4,
  "cells": [
    {
      "id": "d1d52149-2705-4b73-b739-33747ad32557",
      "cell_type": "code",
      "source": "import pandas as pd\nimport numpy as np\nfrom sklearn.model_selection import train_test_split\nfrom sklearn.preprocessing import LabelEncoder\nfrom sklearn.impute import SimpleImputer\n\n# Load dataset\ndata = pd.read_csv('weather_data.csv')\n\n# Handle missing values\nimputer = SimpleImputer(strategy='mean')\ndata[['avg_temperature', 'humidity', 'avg_wind_speed']] = imputer.fit_transform(data[['avg_temperature', 'humidity', 'avg_wind_speed']])\n\n# Encoding the 'rain_or_not' target variable (if necessary)\nlabel_encoder = LabelEncoder()\ndata['rain_or_not'] = label_encoder.fit_transform(data['rain_or_not'])\n\n# Extract date-related features (year, month, day, weekday)\ndata['date'] = pd.to_datetime(data['date'])\ndata['year'] = data['date'].dt.year\ndata['month'] = data['date'].dt.month\ndata['day_of_week'] = data['date'].dt.weekday\n\n# Drop the original 'date' column\ndata.drop(columns=['date'], inplace=True)\n\n# Check data\nprint(data.head())",
      "metadata": {
        "trusted": true
      },
      "outputs": [],
      "execution_count": null
    },
    {
      "id": "a37f8b19-444b-4533-bb63-aeeb9af09718",
      "cell_type": "code",
      "source": "import matplotlib.pyplot as plt\nimport seaborn as sns\n\n# Visualize correlation heatmap\nplt.figure(figsize=(10, 6))\nsns.heatmap(data.corr(), annot=True, cmap='coolwarm', fmt='.2f')\nplt.title('Correlation Heatmap')\nplt.show()\n\n# Plot distribution of target variable 'rain_or_not'\nsns.countplot(x='rain_or_not', data=data)\nplt.title('Distribution of Rain vs No Rain')\nplt.show()\n\n# Plot relationships between features and target variable\nsns.pairplot(data, hue='rain_or_not', vars=['avg_temperature', 'humidity', 'avg_wind_speed'])\nplt.show()",
      "metadata": {
        "trusted": true
      },
      "outputs": [],
      "execution_count": null
    },
    {
      "id": "a4386984-9efa-4703-a9b3-c7e9913ff5e1",
      "cell_type": "code",
      "source": "from sklearn.ensemble import RandomForestClassifier\nfrom sklearn.linear_model import LogisticRegression\nfrom sklearn.metrics import classification_report, accuracy_score\n\n# Features and target\nX = data[['avg_temperature', 'humidity', 'avg_wind_speed', 'day_of_week', 'month', 'year']]\ny = data['rain_or_not']\n\n# Train-test split\nX_train, X_test, y_train, y_test = train_test_split(X, y, test_size=0.2, random_state=42)\n\n# Random Forest Classifier\nrf_model = RandomForestClassifier(random_state=42)\nrf_model.fit(X_train, y_train)\nrf_predictions = rf_model.predict(X_test)\n\n# Evaluate Random Forest\nprint(\"Random Forest Accuracy:\", accuracy_score(y_test, rf_predictions))\nprint(\"Random Forest Classification Report:\\n\", classification_report(y_test, rf_predictions))\n\n# Logistic Regression (example of another model)\nlog_model = LogisticRegression()\nlog_model.fit(X_train, y_train)\nlog_predictions = log_model.predict(X_test)\n\n# Evaluate Logistic Regression\nprint(\"Logistic Regression Accuracy:\", accuracy_score(y_test, log_predictions))\nprint(\"Logistic Regression Classification Report:\\n\", classification_report(y_test, log_predictions))",
      "metadata": {
        "trusted": true
      },
      "outputs": [],
      "execution_count": null
    },
    {
      "id": "6aa8024d-99cd-4e03-a6d0-4159cc10b3a8",
      "cell_type": "code",
      "source": "from sklearn.model_selection import GridSearchCV\n\n# Hyperparameter tuning for Random Forest\nparam_grid = {\n    'n_estimators': [50, 100, 200],\n    'max_depth': [None, 10, 20, 30],\n    'min_samples_split': [2, 5, 10]\n}\ngrid_search = GridSearchCV(estimator=RandomForestClassifier(random_state=42), param_grid=param_grid, cv=3)\ngrid_search.fit(X_train, y_train)\n\n# Best parameters\nprint(\"Best Parameters:\", grid_search.best_params_)\n\n# Evaluate best model\nbest_rf_model = grid_search.best_estimator_\nbest_rf_predictions = best_rf_model.predict(X_test)\nprint(\"Optimized Random Forest Accuracy:\", accuracy_score(y_test, best_rf_predictions))",
      "metadata": {
        "trusted": true
      },
      "outputs": [],
      "execution_count": null
    },
    {
      "id": "d03c169b-4849-40db-94eb-b4f7cbcf6d42",
      "cell_type": "code",
      "source": "# Get probabilities from the model (probability of rain - class 1)\nprobabilities = rf_model.predict_proba(X_test)\nprob_of_rain = probabilities[:, 1]  # This will give the probability of rain (class 1)\n\n# Output probability of rain for the first 5 test samples\nprint(\"Probability of Rain for First 5 Samples:\", prob_of_rain[:5])",
      "metadata": {
        "trusted": true
      },
      "outputs": [],
      "execution_count": null
    }
  ]
}